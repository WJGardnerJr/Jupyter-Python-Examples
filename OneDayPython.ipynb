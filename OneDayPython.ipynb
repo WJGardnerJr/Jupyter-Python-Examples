{
 "cells": [
  {
   "cell_type": "markdown",
   "metadata": {},
   "source": [
    "## One Day Python Assignment\n",
    "This is the assignment intended to teach Python from the basics all the way to using Pandas Dataframes. It is not intended to be comprehensive, but rather a survey of the major topics to get the learner from point A to B.    \n",
    "   \n",
    "Part 1 will be worth 100 points and Part 2 will be worth 100 points. There will only be one assignment on Canvas worth 100 points. The final grade for this will be divided by 2 and rounded up.     \n",
    "So if you got 100 on Part 1 and 67 on Part 2, you will have 167 / 2 = 83.5. Extra credit is added onto Part 1, so, again: if you got 110 on Part 1 and 67 on Part 2, you will have 177 / 2 = 90."
   ]
  },
  {
   "cell_type": "markdown",
   "metadata": {},
   "source": [
    "### PART 1"
   ]
  },
  {
   "cell_type": "markdown",
   "metadata": {},
   "source": [
    " 1. Print “Hello World”  (2 pts)"
   ]
  },
  {
   "cell_type": "code",
   "execution_count": 1,
   "metadata": {},
   "outputs": [
    {
     "name": "stdout",
     "output_type": "stream",
     "text": [
      "Hello World\n"
     ]
    }
   ],
   "source": [
    "print(\"Hello World\")"
   ]
  },
  {
   "cell_type": "markdown",
   "metadata": {},
   "source": [
    "2.  Save your age to a variable called “age”    \n",
    "3.  Print “Hello World, I’m (age variable) today.”    (5 pts)"
   ]
  },
  {
   "cell_type": "code",
   "execution_count": 5,
   "metadata": {},
   "outputs": [
    {
     "name": "stdout",
     "output_type": "stream",
     "text": [
      "Hello World, I'm 27 today\n"
     ]
    }
   ],
   "source": [
    "age = 27\n",
    "print(\"Hello World, I'm\", age, \"today\")"
   ]
  },
  {
   "cell_type": "markdown",
   "metadata": {},
   "source": [
    "4. Print “hello world” in all upper case using a Python string method to alter it (4 pts)"
   ]
  },
  {
   "cell_type": "code",
   "execution_count": 7,
   "metadata": {},
   "outputs": [
    {
     "name": "stdout",
     "output_type": "stream",
     "text": [
      "HELLO WORLD\n"
     ]
    }
   ],
   "source": [
    "string = \"hello world\"\n",
    "s = string.upper()\n",
    "print(s)"
   ]
  },
  {
   "cell_type": "markdown",
   "metadata": {},
   "source": [
    " 5. Save any decimal in a variable called a.   \n",
    " Cast a into an int and save it as b.  \n",
    " Cast a into a string and save it as c.   \n",
    " Print each variable and its type.   (11 pts)"
   ]
  },
  {
   "cell_type": "code",
   "execution_count": 9,
   "metadata": {},
   "outputs": [
    {
     "name": "stdout",
     "output_type": "stream",
     "text": [
      "0.1 is <class 'float'>\n",
      "0 is <class 'int'>\n",
      "0.1 is <class 'str'>\n"
     ]
    }
   ],
   "source": [
    "a = 0.1\n",
    "b = int(a)\n",
    "c = str(a)\n",
    "print(a, \"is\", type(a))\n",
    "print(b, \"is\", type(b))\n",
    "print(c, \"is\", type(c))"
   ]
  },
  {
   "cell_type": "markdown",
   "metadata": {},
   "source": [
    "6. Create a tuple of your favorite things to eat and print it.   (4 pts)"
   ]
  },
  {
   "cell_type": "code",
   "execution_count": 11,
   "metadata": {},
   "outputs": [
    {
     "name": "stdout",
     "output_type": "stream",
     "text": [
      "('ice cream', 'blueberries', 'moros')\n"
     ]
    }
   ],
   "source": [
    "favorites = (\"ice cream\", \"blueberries\", \"moros\")\n",
    "print(favorites)"
   ]
  },
  {
   "cell_type": "markdown",
   "metadata": {},
   "source": [
    "7. Create a dictionary named ‘classes’ with the name of the classes you are taking as the keys and the professors names as the values. \n",
    "Print the dictionary and tuple.   (10 pts)"
   ]
  },
  {
   "cell_type": "code",
   "execution_count": 109,
   "metadata": {},
   "outputs": [
    {
     "name": "stdout",
     "output_type": "stream",
     "text": [
      "{'Principles Programming Languages': 'Professor Lloyd', 'Introduction to Embedded Systems': 'Professor Alhalabi', 'Theory of Computation': 'Professor Sorgente', 'Engineering Design II': 'Professor Zhong'}\n"
     ]
    }
   ],
   "source": [
    "classes = {\n",
    "    \"Principles Programming Languages\": \"Professor Lloyd\",\n",
    "    \"Introduction to Embedded Systems\": \"Professor Alhalabi\",\n",
    "    \"Theory of Computation\": \"Professor Sorgente\",\n",
    "    \"Engineering Design II\": \"Professor Zhong\"\n",
    "}\n",
    "\n",
    "print(classes)"
   ]
  },
  {
   "cell_type": "markdown",
   "metadata": {},
   "source": [
    "8. Create a list called “whole” and put every number in it from 1 - 100  (10 pts)"
   ]
  },
  {
   "cell_type": "code",
   "execution_count": 16,
   "metadata": {},
   "outputs": [
    {
     "name": "stdout",
     "output_type": "stream",
     "text": [
      "[1, 2, 3, 4, 5, 6, 7, 8, 9, 10, 11, 12, 13, 14, 15, 16, 17, 18, 19, 20, 21, 22, 23, 24, 25, 26, 27, 28, 29, 30, 31, 32, 33, 34, 35, 36, 37, 38, 39, 40, 41, 42, 43, 44, 45, 46, 47, 48, 49, 50, 51, 52, 53, 54, 55, 56, 57, 58, 59, 60, 61, 62, 63, 64, 65, 66, 67, 68, 69, 70, 71, 72, 73, 74, 75, 76, 77, 78, 79, 80, 81, 82, 83, 84, 85, 86, 87, 88, 89, 90, 91, 92, 93, 94, 95, 96, 97, 98, 99, 100]\n"
     ]
    }
   ],
   "source": [
    "whole = []\n",
    "for i in range(100):\n",
    "    whole.append(i + 1)\n",
    "    \n",
    "print(whole)"
   ]
  },
  {
   "cell_type": "markdown",
   "metadata": {},
   "source": [
    "9. Create 4 empty lists called ‘div2’, ‘div3’, ‘div4’, and ‘div5’       \n",
    "Create a loop that examines each number from 1 to 100 and:    \n",
    " If it is divisible by 2, put it in div2   (6 pts)    \n",
    " If it is divisible by 3, put it in div3   (6 pts)     \n",
    " If it is divisible by 4, put it in div4   (6 pts)    \n",
    " If it is divisible by 5, put it in div5   (6 pts)    \n",
    " Print all 5 of these lists"
   ]
  },
  {
   "cell_type": "code",
   "execution_count": 18,
   "metadata": {},
   "outputs": [
    {
     "name": "stdout",
     "output_type": "stream",
     "text": [
      "[2, 4, 6, 8, 10, 12, 14, 16, 18, 20, 22, 24, 26, 28, 30, 32, 34, 36, 38, 40, 42, 44, 46, 48, 50, 52, 54, 56, 58, 60, 62, 64, 66, 68, 70, 72, 74, 76, 78, 80, 82, 84, 86, 88, 90, 92, 94, 96, 98, 100] \n",
      " [3, 6, 9, 12, 15, 18, 21, 24, 27, 30, 33, 36, 39, 42, 45, 48, 51, 54, 57, 60, 63, 66, 69, 72, 75, 78, 81, 84, 87, 90, 93, 96, 99] \n",
      " [4, 8, 12, 16, 20, 24, 28, 32, 36, 40, 44, 48, 52, 56, 60, 64, 68, 72, 76, 80, 84, 88, 92, 96, 100] \n",
      " [5, 10, 15, 20, 25, 30, 35, 40, 45, 50, 55, 60, 65, 70, 75, 80, 85, 90, 95, 100]\n"
     ]
    }
   ],
   "source": [
    "div2 = []\n",
    "div3 = []\n",
    "div4 = []\n",
    "div5 = []\n",
    "\n",
    "for i in range (100):\n",
    "    if (i + 1) % 2 == 0:\n",
    "        div2.append(i + 1)\n",
    "    if (i + 1) % 3 == 0:\n",
    "        div3.append(i + 1)\n",
    "    if (i + 1) % 4 == 0:\n",
    "        div4.append(i + 1)\n",
    "    if (i + 1) % 5 == 0:\n",
    "        div5.append(i + 1)\n",
    "        \n",
    "print (div2, \"\\n\", div3, \"\\n\", div4, \"\\n\", div5)"
   ]
  },
  {
   "cell_type": "markdown",
   "metadata": {},
   "source": [
    "10. Create a new list called “divOver5”   (3 pts)"
   ]
  },
  {
   "cell_type": "code",
   "execution_count": 19,
   "metadata": {},
   "outputs": [],
   "source": [
    "divOver5 = []"
   ]
  },
  {
   "cell_type": "markdown",
   "metadata": {},
   "source": [
    "11. Create a new loop that goes through each number 1 through 100 and appends it to divOver5 if it is NOT IN div2 or div3 or div4 or div5      \n",
    " You must use logical operators here.   \n",
    "Print divOver5   (10 points)    "
   ]
  },
  {
   "cell_type": "code",
   "execution_count": 26,
   "metadata": {},
   "outputs": [
    {
     "name": "stdout",
     "output_type": "stream",
     "text": [
      "[1, 7, 11, 13, 17, 19, 23, 29, 31, 37, 41, 43, 47, 49, 53, 59, 61, 67, 71, 73, 77, 79, 83, 89, 91, 97]\n"
     ]
    }
   ],
   "source": [
    "for i in range(100):\n",
    "    if (i + 1) not in div2 and (i + 1) not in div3 and (i + 1) not in div4 and (i + 1) not in div5:\n",
    "        divOver5.append(i + 1)\n",
    "        \n",
    "print(divOver5)"
   ]
  },
  {
   "cell_type": "markdown",
   "metadata": {},
   "source": [
    "12. Create a function called exp3 that takes an int x, raises it to the third power.     \n",
    "Create a string in the function that says “x^3 = “ and concatenate x onto the end of the string.      \n",
    "Now return the string from the function.  Call the function exp3 and print what it returns.   (15 pts)"
   ]
  },
  {
   "cell_type": "code",
   "execution_count": 28,
   "metadata": {},
   "outputs": [
    {
     "data": {
      "text/plain": [
       "'x^3 = 125'"
      ]
     },
     "execution_count": 28,
     "metadata": {},
     "output_type": "execute_result"
    }
   ],
   "source": [
    "def exp3(x):\n",
    "    result = x**3\n",
    "    strResult = \"x^3 = \" + str(result)\n",
    "    return strResult\n",
    "\n",
    "exp3(5)"
   ]
  },
  {
   "cell_type": "markdown",
   "metadata": {},
   "source": [
    "13. Iterate through the classes dictionary and print the keys    (5 pts)"
   ]
  },
  {
   "cell_type": "code",
   "execution_count": 110,
   "metadata": {},
   "outputs": [
    {
     "name": "stdout",
     "output_type": "stream",
     "text": [
      "Key is: Principles Programming Languages\n",
      "Key is: Introduction to Embedded Systems\n",
      "Key is: Theory of Computation\n",
      "Key is: Engineering Design II\n"
     ]
    }
   ],
   "source": [
    "for key in classes:\n",
    "    print(\"Key is:\", key)"
   ]
  },
  {
   "cell_type": "markdown",
   "metadata": {},
   "source": [
    "14. Iterate through the classes dictionary and print the values   (5 pts)"
   ]
  },
  {
   "cell_type": "code",
   "execution_count": 111,
   "metadata": {},
   "outputs": [
    {
     "name": "stdout",
     "output_type": "stream",
     "text": [
      "Value is: Professor Lloyd\n",
      "Value is: Professor Alhalabi\n",
      "Value is: Professor Sorgente\n",
      "Value is: Professor Zhong\n"
     ]
    }
   ],
   "source": [
    "for key in classes:\n",
    "    print(\"Value is:\",classes[key])"
   ]
  },
  {
   "cell_type": "markdown",
   "metadata": {},
   "source": [
    "(Worth +10 points) Extra Points:   \n",
    "Create a class called Student that has the properties:    \n",
    "\tname (holds student name)    \n",
    "\tage (holds student age)    \n",
    "\tbirthmonth (hold students birthmonth)\n",
    "\t\n",
    "\tA count variable exists that is set to 0 (see lecture) and upon each call to the class this variable increments     \n",
    "\n",
    "\t2 functions in the class:  displayName which returns the name of the student and displayBirthmonth which returns the birth month of the student    \n",
    "\n",
    "\tNow create 3 students, use whatever data you want.       \n",
    "\tCall displayName() on student1     \n",
    "\tCall displayBirthmonth() on student2    \n",
    "\tprint the student count    \n"
   ]
  },
  {
   "cell_type": "code",
   "execution_count": 55,
   "metadata": {},
   "outputs": [
    {
     "name": "stdout",
     "output_type": "stream",
     "text": [
      "The name of this student is Billy\n",
      "The birth month of this student Sally is February\n",
      "There are currently 3 students in the class.\n"
     ]
    }
   ],
   "source": [
    "class Student:\n",
    "    count = 0\n",
    "    def __init__(self, name, age, birthmonth):\n",
    "        self.name = name\n",
    "        self.age = age\n",
    "        self.birthmonth = birthmonth\n",
    "        Student.count += 1\n",
    "    \n",
    "    def displayName(self):\n",
    "        print(\"The name of this student is\", self.name)\n",
    "        \n",
    "    def displayBirthmonth(self):\n",
    "        print(\"The birth month of this student\", self.name, \"is\", self.birthmonth)\n",
    "        \n",
    "student1 = Student(\"Billy\", 14, \"January\")\n",
    "student2 = Student(\"Sally\", 13, \"February\")\n",
    "student3 = Student(\"Natalie\", 12, \"March\")\n",
    "\n",
    "student1.displayName()\n",
    "student2.displayBirthmonth()\n",
    "\n",
    "print(\"There are currently\", Student.count, \"students in the class.\")\n",
    "\n",
    "    \n",
    "    "
   ]
  },
  {
   "cell_type": "markdown",
   "metadata": {},
   "source": [
    "### PART 2"
   ]
  },
  {
   "cell_type": "markdown",
   "metadata": {},
   "source": [
    "This part will require you to use the film_results.txt file provided on Canvas. You will also need to import NumPy and Pandas."
   ]
  },
  {
   "cell_type": "markdown",
   "metadata": {},
   "source": [
    "1. Move the film_results.txt file from Blackboard into your project directory.     \n",
    " Create 3 lists, one for states, one for shows, and one for viewers.     \n",
    " Ingest data from text file and put it into a NumPy array (show_results.txt)      \n",
    "\tItll look like a nested list.       \n",
    "          [ [‘Oregon’, ‘Once Upon a Time’, ‘4075’] [...] …]     \n",
    " Print the raw data   (10 pts)    "
   ]
  },
  {
   "cell_type": "code",
   "execution_count": 213,
   "metadata": {},
   "outputs": [
    {
     "name": "stdout",
     "output_type": "stream",
     "text": [
      "[['Oregon', 'Once Upon a Time', '4075'], ['Washington', 'Vikings', '3739'], ['Washington', 'Game of Thrones', '3997'], ['Nevada', 'Vikings', '1682'], ['Washington', 'Game of Thrones', '8983'], ['Washington', 'Vikings', '145'], ['Idaho', 'Daredevil', '2663'], ['California', 'Game of Thrones', '6361'], ['Idaho', 'Game of Thrones', '6788'], ['Idaho', 'The Flash', '3064'], ['Oregon', 'Gotham', '9389'], ['Washington', 'The Walking Dead', '4301'], ['Nevada', 'Game of Thrones', '7328'], ['California', 'The Flash', '9003'], ['Nevada', 'Gotham', '8575'], ['Idaho', 'Suits', '3239'], ['Idaho', 'Gotham', '6695'], ['Nevada', 'The Flash', '594'], ['Nevada', 'The Flash', '3793'], ['Nevada', 'Suits', '8544'], ['California', 'Vikings', '1059'], ['Nevada', 'Daredevil', '8200'], ['California', 'Daredevil', '1856'], ['Washington', 'Suits', '2871'], ['Washington', 'Better Call Saul', '9574'], ['Idaho', 'Vikings', '5218'], ['Idaho', 'The Walking Dead', '6256'], ['Nevada', 'Vikings', '8581'], ['Oregon', 'Game of Thrones', '2460'], ['Washington', 'Vikings', '728'], ['Oregon', 'Vikings', '7495'], ['Oregon', 'The Flash', '2103'], ['Idaho', 'Better Call Saul', '8179'], ['Oregon', 'Orange is the New Black', '1144'], ['Nevada', 'Vikings', '7514'], ['Washington', 'The Flash', '271'], ['California', 'The Walking Dead', '4353'], ['Nevada', 'Game of Thrones', '7647'], ['California', 'Suits', '3408'], ['Oregon', 'The Flash', '8443'], ['Washington', 'Better Call Saul', '1970'], ['Oregon', 'Vikings', '1711'], ['Nevada', 'The Walking Dead', '825'], ['Oregon', 'Better Call Saul', '7875'], ['Idaho', 'Suits', '1333'], ['California', 'Once Upon a Time', '9753'], ['Nevada', 'Daredevil', '4233'], ['Nevada', 'Orange is the New Black', '1349'], ['California', 'Gotham', '1473'], ['Idaho', 'Gotham', '4176'], ['California', 'Suits', '2193'], ['Oregon', 'Gotham', '8477'], ['Washington', 'Gotham', '6834'], ['Oregon', 'Suits', '2569'], ['Oregon', 'Gotham', '8284'], ['Oregon', 'The Flash', '4729'], ['Washington', 'Game of Thrones', '4988'], ['California', 'Game of Thrones', '1177'], ['Nevada', 'Vikings', '9210'], ['Oregon', 'Daredevil', '6374'], ['Idaho', 'The Flash', '9114'], ['California', 'Suits', '9049'], ['Nevada', 'Once Upon a Time', '6639'], ['Idaho', 'Orange is the New Black', '5225'], ['Washington', 'The Flash', '4988'], ['Washington', 'Once Upon a Time', '2103'], ['Oregon', 'Suits', '6207'], ['Nevada', 'Vikings', '6859'], ['California', 'Suits', '1314'], ['Idaho', 'The Flash', '6491'], ['Nevada', 'Game of Thrones', '5764'], ['Nevada', 'Daredevil', '960'], ['Nevada', 'Game of Thrones', '5205'], ['Washington', 'Daredevil', '2241'], ['Idaho', 'Once Upon a Time', '6930'], ['Washington', 'Orange is the New Black', '3699'], ['Oregon', 'The Walking Dead', '8447'], ['Washington', 'Better Call Saul', '3784'], ['Nevada', 'Game of Thrones', '9469'], ['California', 'Daredevil', '4746'], ['California', 'Better Call Saul', '8430'], ['Idaho', 'Game of Thrones', '742'], ['Oregon', 'Better Call Saul', '9322'], ['California', 'The Flash', '3254'], ['Oregon', 'The Flash', '5103'], ['California', 'Orange is the New Black', '7291'], ['Oregon', 'The Flash', '8395'], ['California', 'Daredevil', '7304'], ['Nevada', 'Suits', '2707'], ['Washington', 'Game of Thrones', '2547'], ['Nevada', 'Daredevil', '5555'], ['Oregon', 'Gotham', '6505'], ['Idaho', 'Daredevil', '1817'], ['Nevada', 'Better Call Saul', '7268'], ['Nevada', 'Vikings', '8161'], ['California', 'Game of Thrones', '517'], ['Oregon', 'Daredevil', '2439'], ['California', 'Game of Thrones', '7332'], ['Oregon', 'Daredevil', '6149']]\n"
     ]
    }
   ],
   "source": [
    "import numpy as np, pandas as pd\n",
    "\n",
    "file_path = 'film_results.txt'\n",
    "\n",
    "states = []\n",
    "shows = []\n",
    "viewers = []\n",
    "\n",
    "with open(file_path, 'r') as file:\n",
    "    data = []\n",
    "    for line in file:\n",
    "        lines = [element.strip() for element in line.split(',')]\n",
    "        data.append(lines)\n",
    "\n",
    "film_array = np.loadtxt(file_path, dtype=str, delimiter=',')\n",
    "print(data)\n"
   ]
  },
  {
   "cell_type": "markdown",
   "metadata": {},
   "source": [
    "2.  Take the data from the NumPy array and sort it by state, show and viewers, putting each into the appropriate lists you defined earlier.  (so now you have 3 lists, one with states, one with shows and one with viewer counts.)  No duplicates in the states and shows.  Duplicates can and should exist in the viewers.      \n",
    "So the states list will look like this: ['Washington', 'Nevada', 'Idaho', 'California', 'Oregon']      \n",
    " Print these unsorted lists    (5 pts)"
   ]
  },
  {
   "cell_type": "code",
   "execution_count": 214,
   "metadata": {},
   "outputs": [
    {
     "name": "stdout",
     "output_type": "stream",
     "text": [
      "Unsorted lists:\n",
      "States: ['California', 'Idaho', 'Nevada', 'Oregon', 'Washington']\n",
      "Shows: ['Better Call Saul', 'Daredevil', 'Game of Thrones', 'Gotham', 'Once Upon a Time', 'Orange is the New Black', 'Suits', 'The Flash', 'The Walking Dead', 'Vikings']\n",
      "Viewer counts: ['8430', '1856', '4746', '7304', '1177', '517', '6361', '7332', '1473', '9753', '7291', '1314', '2193', '3408', '9049', '3254', '9003', '4353', '1059', '8179', '1817', '2663', '6788', '742', '4176', '6695', '6930', '5225', '1333', '3239', '3064', '6491', '9114', '6256', '5218', '7268', '4233', '5555', '8200', '960', '5205', '5764', '7328', '7647', '9469', '8575', '6639', '1349', '2707', '8544', '3793', '594', '825', '1682', '6859', '7514', '8161', '8581', '9210', '7875', '9322', '2439', '6149', '6374', '2460', '6505', '8284', '8477', '9389', '4075', '1144', '2569', '6207', '2103', '4729', '5103', '8395', '8443', '8447', '1711', '7495', '1970', '3784', '9574', '2241', '2547', '3997', '4988', '8983', '6834', '2103', '3699', '2871', '271', '4988', '4301', '145', '3739', '728']\n"
     ]
    }
   ],
   "source": [
    "for entry in film_array:\n",
    "    state, show, viewer_count = entry\n",
    "    if state not in states:\n",
    "        states.append(state)\n",
    "    if show not in shows:\n",
    "        shows.append(show)\n",
    "    viewers.append(viewer_count)\n",
    "\n",
    "print(\"Unsorted lists:\")\n",
    "print(\"States:\", states)\n",
    "print(\"Shows:\", shows)\n",
    "print(\"Viewer counts:\", viewers)\n"
   ]
  },
  {
   "cell_type": "markdown",
   "metadata": {},
   "source": [
    "3. Convert all 3 lists into NumPy arrays     \n",
    " print new NumPy Arrays    (10 pts)"
   ]
  },
  {
   "cell_type": "code",
   "execution_count": 215,
   "metadata": {},
   "outputs": [
    {
     "name": "stdout",
     "output_type": "stream",
     "text": [
      "States:  ['California' 'Idaho' 'Nevada' 'Oregon' 'Washington']\n",
      "Shows:  ['Better Call Saul' 'Daredevil' 'Game of Thrones' 'Gotham'\n",
      " 'Once Upon a Time' 'Orange is the New Black' 'Suits' 'The Flash'\n",
      " 'The Walking Dead' 'Vikings']\n",
      "Viewers:  ['8430' '1856' '4746' '7304' '1177' '517' '6361' '7332' '1473' '9753'\n",
      " '7291' '1314' '2193' '3408' '9049' '3254' '9003' '4353' '1059' '8179'\n",
      " '1817' '2663' '6788' '742' '4176' '6695' '6930' '5225' '1333' '3239'\n",
      " '3064' '6491' '9114' '6256' '5218' '7268' '4233' '5555' '8200' '960'\n",
      " '5205' '5764' '7328' '7647' '9469' '8575' '6639' '1349' '2707' '8544'\n",
      " '3793' '594' '825' '1682' '6859' '7514' '8161' '8581' '9210' '7875'\n",
      " '9322' '2439' '6149' '6374' '2460' '6505' '8284' '8477' '9389' '4075'\n",
      " '1144' '2569' '6207' '2103' '4729' '5103' '8395' '8443' '8447' '1711'\n",
      " '7495' '1970' '3784' '9574' '2241' '2547' '3997' '4988' '8983' '6834'\n",
      " '2103' '3699' '2871' '271' '4988' '4301' '145' '3739' '728']\n"
     ]
    }
   ],
   "source": [
    "np_states = np.array(states)\n",
    "np_shows = np.array(shows)\n",
    "np_viewers = np.array(viewers)\n",
    "\n",
    "print(\"States: \", np_states)\n",
    "print(\"Shows: \", np_shows)\n",
    "print(\"Viewers: \", np_viewers)"
   ]
  },
  {
   "cell_type": "markdown",
   "metadata": {},
   "source": [
    "4. Sort the States and Shows arrays      \n",
    "\tNow your States array will look like:      \n",
    "\t['California', 'Idaho', 'Nevada', 'Oregon', 'Washington']      \n",
    "Convert the Viewers array from STRINGS into INTS      \n",
    "Sum up viewers list into one variable (you can do this in one line)       \n",
    "Print: Sorted arrays (states and shows), viewers list (as ints), and the variable that is the sum of the viewers list.        (30 pts)"
   ]
  },
  {
   "cell_type": "code",
   "execution_count": null,
   "metadata": {},
   "outputs": [],
   "source": [
    "sorted_indices = np.lexsort((film_array[:, 2].astype(int), film_array[:, 1], film_array[:, 0]))\n",
    "sorted_film_array = film_array[sorted_indices]\n",
    "unique_states = np.unique(sorted_film_array[:, 0])\n",
    "unique_shows = np.unique(sorted_film_array[:, 1])\n",
    "viewers = sorted_film_array[:, 2]\n",
    "\n",
    "print(\"States:\", unique_states)\n",
    "print(\"Shows:\", unique_shows)\n",
    "print(\"Viewers:\", viewers)"
   ]
  },
  {
   "cell_type": "markdown",
   "metadata": {},
   "source": [
    "5. Create 2 DataFrames:      \n",
    "show_raw_stats: index = numpy sorted array of SHOWS; columns = numpy sorted array of STATES      \n",
    "show_agg_stats: index = same as above; columns= a list with the words Max, Min, Totals and Percent in it (like this… [‘Max’,’Min’,’Totals’, ‘Percent’]        \n",
    "Populate show_raw_stats with data from the Original Array ingested from film_results.txt. \n",
    "Populate the Max, Min, Totals, and Percent in show_agg_stats using the DataFrame native functionality    \n",
    "Print both dataframe   (30 pts)     \n",
    "\n",
    "HINT:  You will need to create a loop here that basically goes the length of the original array, and on each iteration, it grabs the STATE, SHOW, and VIEWERS number (itll be a string so youll have to convert it…).    \n",
    "The final step of each iteration will be placing it in the dataframe in the correct spot as an accumulation. +=      (Otherwise you just writing over the value there)     \n"
   ]
  },
  {
   "cell_type": "code",
   "execution_count": null,
   "metadata": {},
   "outputs": [],
   "source": []
  },
  {
   "cell_type": "markdown",
   "metadata": {},
   "source": [
    "6. Print the answer to these questions in a Markdown cell, do not print them with Python:        \n",
    "Which Show has the highest percentage?   (5 pts)      \n",
    "Which Show has the lowest percentage?    (5 pts)     \n",
    "Which show is your favorite?             (5 pts)     "
   ]
  },
  {
   "cell_type": "markdown",
   "metadata": {},
   "source": []
  },
  {
   "cell_type": "markdown",
   "metadata": {},
   "source": [
    "### Please try to follow the directions as closely as possible.  You might think of better ways to implement this, with less lines of code the skips steps and thats great, but not for this assignment.  If you do think of these, put them in comments and extra points will be given for those but follow these steps."
   ]
  },
  {
   "cell_type": "markdown",
   "metadata": {},
   "source": []
  }
 ],
 "metadata": {
  "kernelspec": {
   "display_name": "base",
   "language": "python",
   "name": "python3"
  },
  "language_info": {
   "codemirror_mode": {
    "name": "ipython",
    "version": 3
   },
   "file_extension": ".py",
   "mimetype": "text/x-python",
   "name": "python",
   "nbconvert_exporter": "python",
   "pygments_lexer": "ipython3",
   "version": "3.11.5"
  }
 },
 "nbformat": 4,
 "nbformat_minor": 2
}
