{
 "cells": [
  {
   "cell_type": "markdown",
   "metadata": {},
   "source": [
    "## One Day Python Assignment\n",
    "\n",
    "## Student Name: William Gardner\n",
    "\n",
    "This is the assignment intended to teach Python from the basics all the way to using Pandas Dataframes. It is not intended to be comprehensive, but rather a survey of the major topics to get the learner from point A to B.    \n",
    "   \n",
    "Part 1 will be worth 100 points and Part 2 will be worth 100 points. There will only be one assignment on Canvas worth 100 points. The final grade for this will be divided by 2 and rounded up.     \n",
    "So if you got 100 on Part 1 and 67 on Part 2, you will have 167 / 2 = 83.5. Extra credit is added onto Part 1, so, again: if you got 110 on Part 1 and 67 on Part 2, you will have 177 / 2 = 90."
   ]
  },
  {
   "cell_type": "markdown",
   "metadata": {},
   "source": [
    "### PART 1"
   ]
  },
  {
   "cell_type": "markdown",
   "metadata": {},
   "source": [
    " 1. Print “Hello World”  (2 pts)"
   ]
  },
  {
   "cell_type": "code",
   "execution_count": 1,
   "metadata": {},
   "outputs": [
    {
     "name": "stdout",
     "output_type": "stream",
     "text": [
      "Hello World\n"
     ]
    }
   ],
   "source": [
    "print(\"Hello World\")"
   ]
  },
  {
   "cell_type": "markdown",
   "metadata": {},
   "source": [
    "2.  Save your age to a variable called “age”    \n",
    "3.  Print “Hello World, I’m (age variable) today.”    (5 pts)"
   ]
  },
  {
   "cell_type": "code",
   "execution_count": 5,
   "metadata": {},
   "outputs": [
    {
     "name": "stdout",
     "output_type": "stream",
     "text": [
      "Hello World, I'm 27 today\n"
     ]
    }
   ],
   "source": [
    "age = 27\n",
    "print(\"Hello World, I'm\", age, \"today\")"
   ]
  },
  {
   "cell_type": "markdown",
   "metadata": {},
   "source": [
    "4. Print “hello world” in all upper case using a Python string method to alter it (4 pts)"
   ]
  },
  {
   "cell_type": "code",
   "execution_count": 7,
   "metadata": {},
   "outputs": [
    {
     "name": "stdout",
     "output_type": "stream",
     "text": [
      "HELLO WORLD\n"
     ]
    }
   ],
   "source": [
    "string = \"hello world\" #stores string in lowercase\n",
    "s = string.upper() #converts string to uppercase\n",
    "print(s) #prints the converted string"
   ]
  },
  {
   "cell_type": "markdown",
   "metadata": {},
   "source": [
    " 5. Save any decimal in a variable called a.   \n",
    " Cast a into an int and save it as b.  \n",
    " Cast a into a string and save it as c.   \n",
    " Print each variable and its type.   (11 pts)"
   ]
  },
  {
   "cell_type": "code",
   "execution_count": 9,
   "metadata": {},
   "outputs": [
    {
     "name": "stdout",
     "output_type": "stream",
     "text": [
      "0.1 is <class 'float'>\n",
      "0 is <class 'int'>\n",
      "0.1 is <class 'str'>\n"
     ]
    }
   ],
   "source": [
    "a = 0.1\n",
    "b = int(a) #casts a to int\n",
    "c = str(a) #casts a to string\n",
    "print(a, \"is\", type(a))\n",
    "print(b, \"is\", type(b))\n",
    "print(c, \"is\", type(c))"
   ]
  },
  {
   "cell_type": "markdown",
   "metadata": {},
   "source": [
    "6. Create a tuple of your favorite things to eat and print it.   (4 pts)"
   ]
  },
  {
   "cell_type": "code",
   "execution_count": 247,
   "metadata": {},
   "outputs": [
    {
     "name": "stdout",
     "output_type": "stream",
     "text": [
      "('ice cream', 'blueberries', 'moros')\n"
     ]
    }
   ],
   "source": [
    "favorites = (\"ice cream\", \"blueberries\", \"moros\") #creates a tuple with favorite foods\n",
    "print(favorites) #prints the tuple"
   ]
  },
  {
   "cell_type": "markdown",
   "metadata": {},
   "source": [
    "7. Create a dictionary named ‘classes’ with the name of the classes you are taking as the keys and the professors names as the values. \n",
    "Print the dictionary and tuple.   (10 pts)"
   ]
  },
  {
   "cell_type": "code",
   "execution_count": 248,
   "metadata": {},
   "outputs": [
    {
     "name": "stdout",
     "output_type": "stream",
     "text": [
      "{'Principles of Programming Languages': 'Professor Lloyd', 'Introduction to Embedded Systems': 'Professor Alhalabi', 'Theory of Computation': 'Professor Sorgente', 'Engineering Design II': 'Professor Zhong'}\n"
     ]
    }
   ],
   "source": [
    "classes = {\n",
    "    \"Principles of Programming Languages\": \"Professor Lloyd\",\n",
    "    \"Introduction to Embedded Systems\": \"Professor Alhalabi\",\n",
    "    \"Theory of Computation\": \"Professor Sorgente\",\n",
    "    \"Engineering Design II\": \"Professor Zhong\"\n",
    "} #creates a dictionary of my course schedule with professors as values and classes as keys\n",
    "\n",
    "print(classes)"
   ]
  },
  {
   "cell_type": "markdown",
   "metadata": {},
   "source": [
    "8. Create a list called “whole” and put every number in it from 1 - 100  (10 pts)"
   ]
  },
  {
   "cell_type": "code",
   "execution_count": 262,
   "metadata": {},
   "outputs": [
    {
     "name": "stdout",
     "output_type": "stream",
     "text": [
      "[1, 2, 3, 4, 5, 6, 7, 8, 9, 10, 11, 12, 13, 14, 15, 16, 17, 18, 19, 20, 21, 22, 23, 24, 25, 26, 27, 28, 29, 30, 31, 32, 33, 34, 35, 36, 37, 38, 39, 40, 41, 42, 43, 44, 45, 46, 47, 48, 49, 50, 51, 52, 53, 54, 55, 56, 57, 58, 59, 60, 61, 62, 63, 64, 65, 66, 67, 68, 69, 70, 71, 72, 73, 74, 75, 76, 77, 78, 79, 80, 81, 82, 83, 84, 85, 86, 87, 88, 89, 90, 91, 92, 93, 94, 95, 96, 97, 98, 99, 100]\n"
     ]
    }
   ],
   "source": [
    "whole = [] #creates an empty list\n",
    "for i in range(1, 101): # loops from 1 to 100, stopping at 100, and appends the numbers to the list\n",
    "    whole.append(i)\n",
    "    \n",
    "print(whole)"
   ]
  },
  {
   "cell_type": "markdown",
   "metadata": {},
   "source": [
    "9. Create 4 empty lists called ‘div2’, ‘div3’, ‘div4’, and ‘div5’       \n",
    "Create a loop that examines each number from 1 to 100 and:    \n",
    " If it is divisible by 2, put it in div2   (6 pts)    \n",
    " If it is divisible by 3, put it in div3   (6 pts)     \n",
    " If it is divisible by 4, put it in div4   (6 pts)    \n",
    " If it is divisible by 5, put it in div5   (6 pts)    \n",
    " Print all 5 of these lists"
   ]
  },
  {
   "cell_type": "code",
   "execution_count": 268,
   "metadata": {},
   "outputs": [
    {
     "name": "stdout",
     "output_type": "stream",
     "text": [
      "[2, 4, 6, 8, 10, 12, 14, 16, 18, 20, 22, 24, 26, 28, 30, 32, 34, 36, 38, 40, 42, 44, 46, 48, 50, 52, 54, 56, 58, 60, 62, 64, 66, 68, 70, 72, 74, 76, 78, 80, 82, 84, 86, 88, 90, 92, 94, 96, 98, 100] \n",
      " [3, 6, 9, 12, 15, 18, 21, 24, 27, 30, 33, 36, 39, 42, 45, 48, 51, 54, 57, 60, 63, 66, 69, 72, 75, 78, 81, 84, 87, 90, 93, 96, 99] \n",
      " [4, 8, 12, 16, 20, 24, 28, 32, 36, 40, 44, 48, 52, 56, 60, 64, 68, 72, 76, 80, 84, 88, 92, 96, 100] \n",
      " [5, 10, 15, 20, 25, 30, 35, 40, 45, 50, 55, 60, 65, 70, 75, 80, 85, 90, 95, 100]\n"
     ]
    }
   ],
   "source": [
    "#creates 4 empty lists\n",
    "div2 = []\n",
    "div3 = []\n",
    "div4 = []\n",
    "div5 = []\n",
    "\n",
    "for i in range (1, 101):\n",
    "    if (i) % 2 == 0: #if divisible by 2\n",
    "        div2.append(i) \n",
    "    if (i) % 3 == 0: #if divisible by 3\n",
    "        div3.append(i)\n",
    "    if (i) % 4 == 0: #if divisible by 4\n",
    "        div4.append(i)\n",
    "    if (i) % 5 == 0: #if divisible by 5\n",
    "        div5.append(i)\n",
    "        \n",
    "print (div2, \"\\n\", div3, \"\\n\", div4, \"\\n\", div5)"
   ]
  },
  {
   "cell_type": "markdown",
   "metadata": {},
   "source": [
    "10. Create a new list called “divOver5”   (3 pts)"
   ]
  },
  {
   "cell_type": "code",
   "execution_count": 269,
   "metadata": {},
   "outputs": [],
   "source": [
    "divOver5 = [] #creates a new list called divOver5"
   ]
  },
  {
   "cell_type": "markdown",
   "metadata": {},
   "source": [
    "11. Create a new loop that goes through each number 1 through 100 and appends it to divOver5 if it is NOT IN div2 or div3 or div4 or div5      \n",
    " You must use logical operators here.   \n",
    "Print divOver5   (10 points)    "
   ]
  },
  {
   "cell_type": "code",
   "execution_count": 270,
   "metadata": {},
   "outputs": [
    {
     "name": "stdout",
     "output_type": "stream",
     "text": [
      "[1, 7, 11, 13, 17, 19, 23, 29, 31, 37, 41, 43, 47, 49, 53, 59, 61, 67, 71, 73, 77, 79, 83, 89, 91, 97]\n"
     ]
    }
   ],
   "source": [
    "for i in range(1, 101):\n",
    "    if i not in div2 and i not in div3 and i not in div4 and i not in div5: #if not divisible by 2, 3, 4, or 5\n",
    "        divOver5.append(i) #append to new list\n",
    "        \n",
    "print(divOver5)"
   ]
  },
  {
   "cell_type": "markdown",
   "metadata": {},
   "source": [
    "12. Create a function called exp3 that takes an int x, raises it to the third power.     \n",
    "Create a string in the function that says “x^3 = “ and concatenate x onto the end of the string.      \n",
    "Now return the string from the function.  Call the function exp3 and print what it returns.   (15 pts)"
   ]
  },
  {
   "cell_type": "code",
   "execution_count": 272,
   "metadata": {},
   "outputs": [
    {
     "data": {
      "text/plain": [
       "'x^3 = 125'"
      ]
     },
     "execution_count": 272,
     "metadata": {},
     "output_type": "execute_result"
    }
   ],
   "source": [
    "def exp3(x):\n",
    "    result = x**3 #stores x^3 in result\n",
    "    strResult = \"x^3 = \" + str(result) #converts result to string and concatenates result to the end of the new string\n",
    "    return strResult #returns the string result\n",
    "\n",
    "exp3(5) #sample driver code"
   ]
  },
  {
   "cell_type": "markdown",
   "metadata": {},
   "source": [
    "13. Iterate through the classes dictionary and print the keys    (5 pts)"
   ]
  },
  {
   "cell_type": "code",
   "execution_count": 110,
   "metadata": {},
   "outputs": [
    {
     "name": "stdout",
     "output_type": "stream",
     "text": [
      "Key is: Principles Programming Languages\n",
      "Key is: Introduction to Embedded Systems\n",
      "Key is: Theory of Computation\n",
      "Key is: Engineering Design II\n"
     ]
    }
   ],
   "source": [
    "for key in classes:\n",
    "    print(\"Key is:\", key) #iterates and prints the keys"
   ]
  },
  {
   "cell_type": "markdown",
   "metadata": {},
   "source": [
    "14. Iterate through the classes dictionary and print the values   (5 pts)"
   ]
  },
  {
   "cell_type": "code",
   "execution_count": 275,
   "metadata": {},
   "outputs": [
    {
     "name": "stdout",
     "output_type": "stream",
     "text": [
      "Value is: Professor Lloyd\n",
      "Value is: Professor Alhalabi\n",
      "Value is: Professor Sorgente\n",
      "Value is: Professor Zhong\n"
     ]
    }
   ],
   "source": [
    "for key in classes:\n",
    "    print(\"Value is:\", classes[key]) #iterates and prints the values "
   ]
  },
  {
   "cell_type": "markdown",
   "metadata": {},
   "source": [
    "(Worth +10 points) Extra Points:   \n",
    "Create a class called Student that has the properties:    \n",
    "\tname (holds student name)    \n",
    "\tage (holds student age)    \n",
    "\tbirthmonth (hold students birthmonth)\n",
    "\t\n",
    "\tA count variable exists that is set to 0 (see lecture) and upon each call to the class this variable increments     \n",
    "\n",
    "\t2 functions in the class:  displayName which returns the name of the student and displayBirthmonth which returns the birth month of the student    \n",
    "\n",
    "\tNow create 3 students, use whatever data you want.       \n",
    "\tCall displayName() on student1     \n",
    "\tCall displayBirthmonth() on student2    \n",
    "\tprint the student count    \n"
   ]
  },
  {
   "cell_type": "code",
   "execution_count": 276,
   "metadata": {},
   "outputs": [
    {
     "name": "stdout",
     "output_type": "stream",
     "text": [
      "The name of this student is Billy\n",
      "The birth month of this student Sally is February\n",
      "There are currently 3 students in the class.\n"
     ]
    }
   ],
   "source": [
    "class Student:\n",
    "    count = 0 #creates a count variable and sets it to 0\n",
    "    def __init__(self, name, age, birthmonth): #default constructor for the function, sets name to name, age to age, birthmonth to birthmonth\n",
    "        self.name = name\n",
    "        self.age = age\n",
    "        self.birthmonth = birthmonth\n",
    "        Student.count += 1 #each time a student is created, iterates count\n",
    "    \n",
    "    def displayName(self):\n",
    "        print(\"The name of this student is\", self.name) #prints the name of the student\n",
    "        \n",
    "    def displayBirthmonth(self):\n",
    "        print(\"The birth month of this student\", self.name, \"is\", self.birthmonth) #prints the birth month of the student\n",
    "        \n",
    "student1 = Student(\"Billy\", 14, \"January\")\n",
    "student2 = Student(\"Sally\", 13, \"February\")\n",
    "student3 = Student(\"Natalie\", 12, \"March\")\n",
    "\n",
    "student1.displayName() #calls displayName and prints name of Billy\n",
    "student2.displayBirthmonth() #calls displayBirthmonth and prints birth month of Sally\n",
    "\n",
    "print(\"There are currently\", Student.count, \"students in the class.\") #displays count of students\n",
    "\n",
    "    \n",
    "    "
   ]
  },
  {
   "cell_type": "markdown",
   "metadata": {},
   "source": [
    "### PART 2"
   ]
  },
  {
   "cell_type": "markdown",
   "metadata": {},
   "source": [
    "This part will require you to use the film_results.txt file provided on Canvas. You will also need to import NumPy and Pandas."
   ]
  },
  {
   "cell_type": "markdown",
   "metadata": {},
   "source": [
    "1. Move the film_results.txt file from Blackboard into your project directory.     \n",
    " Create 3 lists, one for states, one for shows, and one for viewers.     \n",
    " Ingest data from text file and put it into a NumPy array (show_results.txt)      \n",
    "\tItll look like a nested list.       \n",
    "          [ [‘Oregon’, ‘Once Upon a Time’, ‘4075’] [...] …]     \n",
    " Print the raw data   (10 pts)    "
   ]
  },
  {
   "cell_type": "code",
   "execution_count": 289,
   "metadata": {},
   "outputs": [
    {
     "name": "stdout",
     "output_type": "stream",
     "text": [
      "Raw Data:\n",
      " [['Oregon', 'Once Upon a Time', '4075'], ['Washington', 'Vikings', '3739'], ['Washington', 'Game of Thrones', '3997'], ['Nevada', 'Vikings', '1682'], ['Washington', 'Game of Thrones', '8983'], ['Washington', 'Vikings', '145'], ['Idaho', 'Daredevil', '2663'], ['California', 'Game of Thrones', '6361'], ['Idaho', 'Game of Thrones', '6788'], ['Idaho', 'The Flash', '3064'], ['Oregon', 'Gotham', '9389'], ['Washington', 'The Walking Dead', '4301'], ['Nevada', 'Game of Thrones', '7328'], ['California', 'The Flash', '9003'], ['Nevada', 'Gotham', '8575'], ['Idaho', 'Suits', '3239'], ['Idaho', 'Gotham', '6695'], ['Nevada', 'The Flash', '594'], ['Nevada', 'The Flash', '3793'], ['Nevada', 'Suits', '8544'], ['California', 'Vikings', '1059'], ['Nevada', 'Daredevil', '8200'], ['California', 'Daredevil', '1856'], ['Washington', 'Suits', '2871'], ['Washington', 'Better Call Saul', '9574'], ['Idaho', 'Vikings', '5218'], ['Idaho', 'The Walking Dead', '6256'], ['Nevada', 'Vikings', '8581'], ['Oregon', 'Game of Thrones', '2460'], ['Washington', 'Vikings', '728'], ['Oregon', 'Vikings', '7495'], ['Oregon', 'The Flash', '2103'], ['Idaho', 'Better Call Saul', '8179'], ['Oregon', 'Orange is the New Black', '1144'], ['Nevada', 'Vikings', '7514'], ['Washington', 'The Flash', '271'], ['California', 'The Walking Dead', '4353'], ['Nevada', 'Game of Thrones', '7647'], ['California', 'Suits', '3408'], ['Oregon', 'The Flash', '8443'], ['Washington', 'Better Call Saul', '1970'], ['Oregon', 'Vikings', '1711'], ['Nevada', 'The Walking Dead', '825'], ['Oregon', 'Better Call Saul', '7875'], ['Idaho', 'Suits', '1333'], ['California', 'Once Upon a Time', '9753'], ['Nevada', 'Daredevil', '4233'], ['Nevada', 'Orange is the New Black', '1349'], ['California', 'Gotham', '1473'], ['Idaho', 'Gotham', '4176'], ['California', 'Suits', '2193'], ['Oregon', 'Gotham', '8477'], ['Washington', 'Gotham', '6834'], ['Oregon', 'Suits', '2569'], ['Oregon', 'Gotham', '8284'], ['Oregon', 'The Flash', '4729'], ['Washington', 'Game of Thrones', '4988'], ['California', 'Game of Thrones', '1177'], ['Nevada', 'Vikings', '9210'], ['Oregon', 'Daredevil', '6374'], ['Idaho', 'The Flash', '9114'], ['California', 'Suits', '9049'], ['Nevada', 'Once Upon a Time', '6639'], ['Idaho', 'Orange is the New Black', '5225'], ['Washington', 'The Flash', '4988'], ['Washington', 'Once Upon a Time', '2103'], ['Oregon', 'Suits', '6207'], ['Nevada', 'Vikings', '6859'], ['California', 'Suits', '1314'], ['Idaho', 'The Flash', '6491'], ['Nevada', 'Game of Thrones', '5764'], ['Nevada', 'Daredevil', '960'], ['Nevada', 'Game of Thrones', '5205'], ['Washington', 'Daredevil', '2241'], ['Idaho', 'Once Upon a Time', '6930'], ['Washington', 'Orange is the New Black', '3699'], ['Oregon', 'The Walking Dead', '8447'], ['Washington', 'Better Call Saul', '3784'], ['Nevada', 'Game of Thrones', '9469'], ['California', 'Daredevil', '4746'], ['California', 'Better Call Saul', '8430'], ['Idaho', 'Game of Thrones', '742'], ['Oregon', 'Better Call Saul', '9322'], ['California', 'The Flash', '3254'], ['Oregon', 'The Flash', '5103'], ['California', 'Orange is the New Black', '7291'], ['Oregon', 'The Flash', '8395'], ['California', 'Daredevil', '7304'], ['Nevada', 'Suits', '2707'], ['Washington', 'Game of Thrones', '2547'], ['Nevada', 'Daredevil', '5555'], ['Oregon', 'Gotham', '6505'], ['Idaho', 'Daredevil', '1817'], ['Nevada', 'Better Call Saul', '7268'], ['Nevada', 'Vikings', '8161'], ['California', 'Game of Thrones', '517'], ['Oregon', 'Daredevil', '2439'], ['California', 'Game of Thrones', '7332'], ['Oregon', 'Daredevil', '6149']]\n",
      "\n",
      "NumPy Array:\n",
      " [['Oregon' 'Once Upon a Time' '4075']\n",
      " ['Washington' 'Vikings' '3739']\n",
      " ['Washington' 'Game of Thrones' '3997']\n",
      " ['Nevada' 'Vikings' '1682']\n",
      " ['Washington' 'Game of Thrones' '8983']\n",
      " ['Washington' 'Vikings' '145']\n",
      " ['Idaho' 'Daredevil' '2663']\n",
      " ['California' 'Game of Thrones' '6361']\n",
      " ['Idaho' 'Game of Thrones' '6788']\n",
      " ['Idaho' 'The Flash' '3064']\n",
      " ['Oregon' 'Gotham' '9389']\n",
      " ['Washington' 'The Walking Dead' '4301']\n",
      " ['Nevada' 'Game of Thrones' '7328']\n",
      " ['California' 'The Flash' '9003']\n",
      " ['Nevada' 'Gotham' '8575']\n",
      " ['Idaho' 'Suits' '3239']\n",
      " ['Idaho' 'Gotham' '6695']\n",
      " ['Nevada' 'The Flash' '594']\n",
      " ['Nevada' 'The Flash' '3793']\n",
      " ['Nevada' 'Suits' '8544']\n",
      " ['California' 'Vikings' '1059']\n",
      " ['Nevada' 'Daredevil' '8200']\n",
      " ['California' 'Daredevil' '1856']\n",
      " ['Washington' 'Suits' '2871']\n",
      " ['Washington' 'Better Call Saul' '9574']\n",
      " ['Idaho' 'Vikings' '5218']\n",
      " ['Idaho' 'The Walking Dead' '6256']\n",
      " ['Nevada' 'Vikings' '8581']\n",
      " ['Oregon' 'Game of Thrones' '2460']\n",
      " ['Washington' 'Vikings' '728']\n",
      " ['Oregon' 'Vikings' '7495']\n",
      " ['Oregon' 'The Flash' '2103']\n",
      " ['Idaho' 'Better Call Saul' '8179']\n",
      " ['Oregon' 'Orange is the New Black' '1144']\n",
      " ['Nevada' 'Vikings' '7514']\n",
      " ['Washington' 'The Flash' '271']\n",
      " ['California' 'The Walking Dead' '4353']\n",
      " ['Nevada' 'Game of Thrones' '7647']\n",
      " ['California' 'Suits' '3408']\n",
      " ['Oregon' 'The Flash' '8443']\n",
      " ['Washington' 'Better Call Saul' '1970']\n",
      " ['Oregon' 'Vikings' '1711']\n",
      " ['Nevada' 'The Walking Dead' '825']\n",
      " ['Oregon' 'Better Call Saul' '7875']\n",
      " ['Idaho' 'Suits' '1333']\n",
      " ['California' 'Once Upon a Time' '9753']\n",
      " ['Nevada' 'Daredevil' '4233']\n",
      " ['Nevada' 'Orange is the New Black' '1349']\n",
      " ['California' 'Gotham' '1473']\n",
      " ['Idaho' 'Gotham' '4176']\n",
      " ['California' 'Suits' '2193']\n",
      " ['Oregon' 'Gotham' '8477']\n",
      " ['Washington' 'Gotham' '6834']\n",
      " ['Oregon' 'Suits' '2569']\n",
      " ['Oregon' 'Gotham' '8284']\n",
      " ['Oregon' 'The Flash' '4729']\n",
      " ['Washington' 'Game of Thrones' '4988']\n",
      " ['California' 'Game of Thrones' '1177']\n",
      " ['Nevada' 'Vikings' '9210']\n",
      " ['Oregon' 'Daredevil' '6374']\n",
      " ['Idaho' 'The Flash' '9114']\n",
      " ['California' 'Suits' '9049']\n",
      " ['Nevada' 'Once Upon a Time' '6639']\n",
      " ['Idaho' 'Orange is the New Black' '5225']\n",
      " ['Washington' 'The Flash' '4988']\n",
      " ['Washington' 'Once Upon a Time' '2103']\n",
      " ['Oregon' 'Suits' '6207']\n",
      " ['Nevada' 'Vikings' '6859']\n",
      " ['California' 'Suits' '1314']\n",
      " ['Idaho' 'The Flash' '6491']\n",
      " ['Nevada' 'Game of Thrones' '5764']\n",
      " ['Nevada' 'Daredevil' '960']\n",
      " ['Nevada' 'Game of Thrones' '5205']\n",
      " ['Washington' 'Daredevil' '2241']\n",
      " ['Idaho' 'Once Upon a Time' '6930']\n",
      " ['Washington' 'Orange is the New Black' '3699']\n",
      " ['Oregon' 'The Walking Dead' '8447']\n",
      " ['Washington' 'Better Call Saul' '3784']\n",
      " ['Nevada' 'Game of Thrones' '9469']\n",
      " ['California' 'Daredevil' '4746']\n",
      " ['California' 'Better Call Saul' '8430']\n",
      " ['Idaho' 'Game of Thrones' '742']\n",
      " ['Oregon' 'Better Call Saul' '9322']\n",
      " ['California' 'The Flash' '3254']\n",
      " ['Oregon' 'The Flash' '5103']\n",
      " ['California' 'Orange is the New Black' '7291']\n",
      " ['Oregon' 'The Flash' '8395']\n",
      " ['California' 'Daredevil' '7304']\n",
      " ['Nevada' 'Suits' '2707']\n",
      " ['Washington' 'Game of Thrones' '2547']\n",
      " ['Nevada' 'Daredevil' '5555']\n",
      " ['Oregon' 'Gotham' '6505']\n",
      " ['Idaho' 'Daredevil' '1817']\n",
      " ['Nevada' 'Better Call Saul' '7268']\n",
      " ['Nevada' 'Vikings' '8161']\n",
      " ['California' 'Game of Thrones' '517']\n",
      " ['Oregon' 'Daredevil' '2439']\n",
      " ['California' 'Game of Thrones' '7332']\n",
      " ['Oregon' 'Daredevil' '6149']]\n"
     ]
    }
   ],
   "source": [
    "import numpy as np, pandas as pd #imports necessary libraries\n",
    "\n",
    "file_path = 'film_results.txt' #stores file path in easily-referenced variable\n",
    "\n",
    "#creates three empty lists\n",
    "states = []\n",
    "shows = []\n",
    "viewers = []\n",
    "\n",
    "#opens the file in read-only mode, scans through it, and apends it line-by-line to a new list called data\n",
    "with open(file_path, 'r') as file:\n",
    "    data = []\n",
    "    for line in file:\n",
    "        lines = [element.strip() for element in line.split(',')]\n",
    "        data.append(lines)\n",
    "\n",
    "film_array = np.loadtxt(file_path, dtype=str, delimiter=',') #converts data to a numpy array\n",
    "print(\"Raw Data:\\n\", data) #prints raw data\n",
    "print(\"\\nNumPy Array:\\n\", film_array) #prints numpy array"
   ]
  },
  {
   "cell_type": "markdown",
   "metadata": {},
   "source": [
    "2.  Take the data from the NumPy array and sort it by state, show and viewers, putting each into the appropriate lists you defined earlier.  (so now you have 3 lists, one with states, one with shows and one with viewer counts.)  No duplicates in the states and shows.  Duplicates can and should exist in the viewers.      \n",
    "So the states list will look like this: ['Washington', 'Nevada', 'Idaho', 'California', 'Oregon']      \n",
    " Print these unsorted lists    (5 pts)"
   ]
  },
  {
   "cell_type": "code",
   "execution_count": 290,
   "metadata": {},
   "outputs": [
    {
     "name": "stdout",
     "output_type": "stream",
     "text": [
      "Unsorted lists:\n",
      "States: ['Oregon', 'Washington', 'Nevada', 'Idaho', 'California']\n",
      "Shows: ['Once Upon a Time', 'Vikings', 'Game of Thrones', 'Daredevil', 'The Flash', 'Gotham', 'The Walking Dead', 'Suits', 'Better Call Saul', 'Orange is the New Black']\n",
      "Viewer counts: ['4075', '3739', '3997', '1682', '8983', '145', '2663', '6361', '6788', '3064', '9389', '4301', '7328', '9003', '8575', '3239', '6695', '594', '3793', '8544', '1059', '8200', '1856', '2871', '9574', '5218', '6256', '8581', '2460', '728', '7495', '2103', '8179', '1144', '7514', '271', '4353', '7647', '3408', '8443', '1970', '1711', '825', '7875', '1333', '9753', '4233', '1349', '1473', '4176', '2193', '8477', '6834', '2569', '8284', '4729', '4988', '1177', '9210', '6374', '9114', '9049', '6639', '5225', '4988', '2103', '6207', '6859', '1314', '6491', '5764', '960', '5205', '2241', '6930', '3699', '8447', '3784', '9469', '4746', '8430', '742', '9322', '3254', '5103', '7291', '8395', '7304', '2707', '2547', '5555', '6505', '1817', '7268', '8161', '517', '2439', '7332', '6149']\n"
     ]
    }
   ],
   "source": [
    "# iterates through the numpy array, sorts it by state, show, and viewers, and appends to appropriate lists\n",
    "# removes duplicates via not in methodology\n",
    "for entry in film_array:\n",
    "    state, show, viewer_count = entry\n",
    "    if state not in states:\n",
    "        states.append(state)\n",
    "    if show not in shows:\n",
    "        shows.append(show)\n",
    "    viewers.append(viewer_count)\n",
    "\n",
    "print(\"Unsorted lists:\")\n",
    "print(\"States:\", states) #Note that states prints different than the example, as I have iterated from 0, where it is 0-indexed and Oregon is the first state to appear.\n",
    "print(\"Shows:\", shows)\n",
    "print(\"Viewer counts:\", viewers)\n"
   ]
  },
  {
   "cell_type": "markdown",
   "metadata": {},
   "source": [
    "3. Convert all 3 lists into NumPy arrays     \n",
    " print new NumPy Arrays    (10 pts)"
   ]
  },
  {
   "cell_type": "code",
   "execution_count": 293,
   "metadata": {},
   "outputs": [
    {
     "name": "stdout",
     "output_type": "stream",
     "text": [
      "States:  ['Oregon' 'Washington' 'Nevada' 'Idaho' 'California']\n",
      "\n",
      "Shows:  ['Once Upon a Time' 'Vikings' 'Game of Thrones' 'Daredevil' 'The Flash'\n",
      " 'Gotham' 'The Walking Dead' 'Suits' 'Better Call Saul'\n",
      " 'Orange is the New Black']\n",
      "\n",
      "Viewers:  ['4075' '3739' '3997' '1682' '8983' '145' '2663' '6361' '6788' '3064'\n",
      " '9389' '4301' '7328' '9003' '8575' '3239' '6695' '594' '3793' '8544'\n",
      " '1059' '8200' '1856' '2871' '9574' '5218' '6256' '8581' '2460' '728'\n",
      " '7495' '2103' '8179' '1144' '7514' '271' '4353' '7647' '3408' '8443'\n",
      " '1970' '1711' '825' '7875' '1333' '9753' '4233' '1349' '1473' '4176'\n",
      " '2193' '8477' '6834' '2569' '8284' '4729' '4988' '1177' '9210' '6374'\n",
      " '9114' '9049' '6639' '5225' '4988' '2103' '6207' '6859' '1314' '6491'\n",
      " '5764' '960' '5205' '2241' '6930' '3699' '8447' '3784' '9469' '4746'\n",
      " '8430' '742' '9322' '3254' '5103' '7291' '8395' '7304' '2707' '2547'\n",
      " '5555' '6505' '1817' '7268' '8161' '517' '2439' '7332' '6149']\n"
     ]
    }
   ],
   "source": [
    "#Converts all lists to numpy arrays\n",
    "np_states = np.array(states)\n",
    "np_shows = np.array(shows)\n",
    "np_viewers = np.array(viewers)\n",
    "\n",
    "#prints the new numpy arrays\n",
    "print(\"States: \", np_states)\n",
    "print(\"\\nShows: \", np_shows)\n",
    "print(\"\\nViewers: \", np_viewers)\n"
   ]
  },
  {
   "cell_type": "markdown",
   "metadata": {},
   "source": [
    "4. Sort the States and Shows arrays      \n",
    "\tNow your States array will look like:      \n",
    "\t['California', 'Idaho', 'Nevada', 'Oregon', 'Washington']      \n",
    "Convert the Viewers array from STRINGS into INTS      \n",
    "Sum up viewers list into one variable (you can do this in one line)       \n",
    "Print: Sorted arrays (states and shows), viewers list (as ints), and the variable that is the sum of the viewers list.        (30 pts)"
   ]
  },
  {
   "cell_type": "code",
   "execution_count": 294,
   "metadata": {},
   "outputs": [
    {
     "name": "stdout",
     "output_type": "stream",
     "text": [
      "States: ['California' 'Idaho' 'Nevada' 'Oregon' 'Washington']\n",
      "\n",
      "Shows: ['Better Call Saul' 'Daredevil' 'Game of Thrones' 'Gotham'\n",
      " 'Once Upon a Time' 'Orange is the New Black' 'Suits' 'The Flash'\n",
      " 'The Walking Dead' 'Vikings']\n",
      "\n",
      "Viewers: [8430 1856 4746 7304  517 1177 6361 7332 1473 9753 7291 1314 2193 3408\n",
      " 9049 3254 9003 4353 1059 8179 1817 2663  742 6788 4176 6695 6930 5225\n",
      " 1333 3239 3064 6491 9114 6256 5218 7268  960 4233 5555 8200 5205 5764\n",
      " 7328 7647 9469 8575 6639 1349 2707 8544  594 3793  825 1682 6859 7514\n",
      " 8161 8581 9210 7875 9322 2439 6149 6374 2460 6505 8284 8477 9389 4075\n",
      " 1144 2569 6207 2103 4729 5103 8395 8443 8447 1711 7495 1970 3784 9574\n",
      " 2241 2547 3997 4988 8983 6834 2103 3699 2871  271 4988 4301  145  728\n",
      " 3739]\n",
      "\n",
      "Total viewers: 499923\n"
     ]
    }
   ],
   "source": [
    "sorted_indices = np.lexsort((film_array[:, 2].astype(int), film_array[:, 1], film_array[:, 0])) #stores and sorts the list indicies in a numpy array\n",
    "sorted_film_array = film_array[sorted_indices] #stores the sorted numpy array based on the indicies\n",
    "unique_states = np.unique(sorted_film_array[:, 0]) #stores unique states in a numpy array\n",
    "unique_shows = np.unique(sorted_film_array[:, 1]) #stores unique shows in a numpy array\n",
    "viewers = sorted_film_array[:, 2].astype(int) #stores viewers in a numpy array\n",
    "total_viewers = np.sum(viewers) #totals the viewers using np.sum method\n",
    "\n",
    "#prints all arrays and data\n",
    "print(\"States:\", unique_states)\n",
    "print(\"\\nShows:\", unique_shows)\n",
    "print(\"\\nViewers:\", viewers)\n",
    "print(\"\\nTotal viewers:\", total_viewers)"
   ]
  },
  {
   "cell_type": "markdown",
   "metadata": {},
   "source": [
    "5. Create 2 DataFrames:      \n",
    "show_raw_stats: index = numpy sorted array of SHOWS; columns = numpy sorted array of STATES      \n",
    "show_agg_stats: index = same as above; columns= a list with the words Max, Min, Totals and Percent in it (like this… [‘Max’,’Min’,’Totals’, ‘Percent’]        \n",
    "Populate show_raw_stats with data from the Original Array ingested from film_results.txt. \n",
    "Populate the Max, Min, Totals, and Percent in show_agg_stats using the DataFrame native functionality    \n",
    "Print both dataframe   (30 pts)     \n",
    "\n",
    "HINT:  You will need to create a loop here that basically goes the length of the original array, and on each iteration, it grabs the STATE, SHOW, and VIEWERS number (itll be a string so youll have to convert it…).    \n",
    "The final step of each iteration will be placing it in the dataframe in the correct spot as an accumulation. +=      (Otherwise you just writing over the value there)     \n"
   ]
  },
  {
   "cell_type": "code",
   "execution_count": 296,
   "metadata": {},
   "outputs": [
    {
     "name": "stdout",
     "output_type": "stream",
     "text": [
      "show_raw_stats:\n"
     ]
    },
    {
     "data": {
      "text/html": [
       "<div>\n",
       "<style scoped>\n",
       "    .dataframe tbody tr th:only-of-type {\n",
       "        vertical-align: middle;\n",
       "    }\n",
       "\n",
       "    .dataframe tbody tr th {\n",
       "        vertical-align: top;\n",
       "    }\n",
       "\n",
       "    .dataframe thead th {\n",
       "        text-align: right;\n",
       "    }\n",
       "</style>\n",
       "<table border=\"1\" class=\"dataframe\">\n",
       "  <thead>\n",
       "    <tr style=\"text-align: right;\">\n",
       "      <th></th>\n",
       "      <th>California</th>\n",
       "      <th>Idaho</th>\n",
       "      <th>Nevada</th>\n",
       "      <th>Oregon</th>\n",
       "      <th>Washington</th>\n",
       "    </tr>\n",
       "  </thead>\n",
       "  <tbody>\n",
       "    <tr>\n",
       "      <th>Better Call Saul</th>\n",
       "      <td>8430</td>\n",
       "      <td>8179</td>\n",
       "      <td>7268</td>\n",
       "      <td>17197</td>\n",
       "      <td>15328</td>\n",
       "    </tr>\n",
       "    <tr>\n",
       "      <th>Daredevil</th>\n",
       "      <td>13906</td>\n",
       "      <td>4480</td>\n",
       "      <td>18948</td>\n",
       "      <td>14962</td>\n",
       "      <td>2241</td>\n",
       "    </tr>\n",
       "    <tr>\n",
       "      <th>Game of Thrones</th>\n",
       "      <td>15387</td>\n",
       "      <td>7530</td>\n",
       "      <td>35413</td>\n",
       "      <td>2460</td>\n",
       "      <td>20515</td>\n",
       "    </tr>\n",
       "    <tr>\n",
       "      <th>Gotham</th>\n",
       "      <td>1473</td>\n",
       "      <td>10871</td>\n",
       "      <td>8575</td>\n",
       "      <td>32655</td>\n",
       "      <td>6834</td>\n",
       "    </tr>\n",
       "    <tr>\n",
       "      <th>Once Upon a Time</th>\n",
       "      <td>9753</td>\n",
       "      <td>6930</td>\n",
       "      <td>6639</td>\n",
       "      <td>4075</td>\n",
       "      <td>2103</td>\n",
       "    </tr>\n",
       "    <tr>\n",
       "      <th>Orange is the New Black</th>\n",
       "      <td>7291</td>\n",
       "      <td>5225</td>\n",
       "      <td>1349</td>\n",
       "      <td>1144</td>\n",
       "      <td>3699</td>\n",
       "    </tr>\n",
       "    <tr>\n",
       "      <th>Suits</th>\n",
       "      <td>15964</td>\n",
       "      <td>4572</td>\n",
       "      <td>11251</td>\n",
       "      <td>8776</td>\n",
       "      <td>2871</td>\n",
       "    </tr>\n",
       "    <tr>\n",
       "      <th>The Flash</th>\n",
       "      <td>12257</td>\n",
       "      <td>18669</td>\n",
       "      <td>4387</td>\n",
       "      <td>28773</td>\n",
       "      <td>5259</td>\n",
       "    </tr>\n",
       "    <tr>\n",
       "      <th>The Walking Dead</th>\n",
       "      <td>4353</td>\n",
       "      <td>6256</td>\n",
       "      <td>825</td>\n",
       "      <td>8447</td>\n",
       "      <td>4301</td>\n",
       "    </tr>\n",
       "    <tr>\n",
       "      <th>Vikings</th>\n",
       "      <td>1059</td>\n",
       "      <td>5218</td>\n",
       "      <td>42007</td>\n",
       "      <td>9206</td>\n",
       "      <td>4612</td>\n",
       "    </tr>\n",
       "  </tbody>\n",
       "</table>\n",
       "</div>"
      ],
      "text/plain": [
       "                         California  Idaho  Nevada  Oregon  Washington\n",
       "Better Call Saul               8430   8179    7268   17197       15328\n",
       "Daredevil                     13906   4480   18948   14962        2241\n",
       "Game of Thrones               15387   7530   35413    2460       20515\n",
       "Gotham                         1473  10871    8575   32655        6834\n",
       "Once Upon a Time               9753   6930    6639    4075        2103\n",
       "Orange is the New Black        7291   5225    1349    1144        3699\n",
       "Suits                         15964   4572   11251    8776        2871\n",
       "The Flash                     12257  18669    4387   28773        5259\n",
       "The Walking Dead               4353   6256     825    8447        4301\n",
       "Vikings                        1059   5218   42007    9206        4612"
      ]
     },
     "metadata": {},
     "output_type": "display_data"
    },
    {
     "name": "stdout",
     "output_type": "stream",
     "text": [
      "\n",
      "show_agg_stats:\n"
     ]
    },
    {
     "data": {
      "text/html": [
       "<div>\n",
       "<style scoped>\n",
       "    .dataframe tbody tr th:only-of-type {\n",
       "        vertical-align: middle;\n",
       "    }\n",
       "\n",
       "    .dataframe tbody tr th {\n",
       "        vertical-align: top;\n",
       "    }\n",
       "\n",
       "    .dataframe thead th {\n",
       "        text-align: right;\n",
       "    }\n",
       "</style>\n",
       "<table border=\"1\" class=\"dataframe\">\n",
       "  <thead>\n",
       "    <tr style=\"text-align: right;\">\n",
       "      <th></th>\n",
       "      <th>Max</th>\n",
       "      <th>Min</th>\n",
       "      <th>Totals</th>\n",
       "      <th>Percent</th>\n",
       "    </tr>\n",
       "  </thead>\n",
       "  <tbody>\n",
       "    <tr>\n",
       "      <th>Better Call Saul</th>\n",
       "      <td>17197</td>\n",
       "      <td>7268</td>\n",
       "      <td>56402</td>\n",
       "      <td>11.282137</td>\n",
       "    </tr>\n",
       "    <tr>\n",
       "      <th>Daredevil</th>\n",
       "      <td>18948</td>\n",
       "      <td>2241</td>\n",
       "      <td>54537</td>\n",
       "      <td>10.909080</td>\n",
       "    </tr>\n",
       "    <tr>\n",
       "      <th>Game of Thrones</th>\n",
       "      <td>35413</td>\n",
       "      <td>2460</td>\n",
       "      <td>81305</td>\n",
       "      <td>16.263505</td>\n",
       "    </tr>\n",
       "    <tr>\n",
       "      <th>Gotham</th>\n",
       "      <td>32655</td>\n",
       "      <td>1473</td>\n",
       "      <td>60408</td>\n",
       "      <td>12.083461</td>\n",
       "    </tr>\n",
       "    <tr>\n",
       "      <th>Once Upon a Time</th>\n",
       "      <td>9753</td>\n",
       "      <td>2103</td>\n",
       "      <td>29500</td>\n",
       "      <td>5.900909</td>\n",
       "    </tr>\n",
       "    <tr>\n",
       "      <th>Orange is the New Black</th>\n",
       "      <td>7291</td>\n",
       "      <td>1144</td>\n",
       "      <td>18708</td>\n",
       "      <td>3.742176</td>\n",
       "    </tr>\n",
       "    <tr>\n",
       "      <th>Suits</th>\n",
       "      <td>15964</td>\n",
       "      <td>2871</td>\n",
       "      <td>43434</td>\n",
       "      <td>8.688138</td>\n",
       "    </tr>\n",
       "    <tr>\n",
       "      <th>The Flash</th>\n",
       "      <td>28773</td>\n",
       "      <td>4387</td>\n",
       "      <td>69345</td>\n",
       "      <td>13.871136</td>\n",
       "    </tr>\n",
       "    <tr>\n",
       "      <th>The Walking Dead</th>\n",
       "      <td>8447</td>\n",
       "      <td>825</td>\n",
       "      <td>24182</td>\n",
       "      <td>4.837145</td>\n",
       "    </tr>\n",
       "    <tr>\n",
       "      <th>Vikings</th>\n",
       "      <td>42007</td>\n",
       "      <td>1059</td>\n",
       "      <td>62102</td>\n",
       "      <td>12.422313</td>\n",
       "    </tr>\n",
       "  </tbody>\n",
       "</table>\n",
       "</div>"
      ],
      "text/plain": [
       "                           Max   Min  Totals    Percent\n",
       "Better Call Saul         17197  7268   56402  11.282137\n",
       "Daredevil                18948  2241   54537  10.909080\n",
       "Game of Thrones          35413  2460   81305  16.263505\n",
       "Gotham                   32655  1473   60408  12.083461\n",
       "Once Upon a Time          9753  2103   29500   5.900909\n",
       "Orange is the New Black   7291  1144   18708   3.742176\n",
       "Suits                    15964  2871   43434   8.688138\n",
       "The Flash                28773  4387   69345  13.871136\n",
       "The Walking Dead          8447   825   24182   4.837145\n",
       "Vikings                  42007  1059   62102  12.422313"
      ]
     },
     "metadata": {},
     "output_type": "display_data"
    }
   ],
   "source": [
    "\n",
    "#creates an empty dataframe and populates it with shows and states, where shows are the index and columns are the states, with both index and columns being pre-sorted\n",
    "show_raw_stats = pd.DataFrame(index=unique_shows, columns=unique_states, data=0)\n",
    "\n",
    "#iterates through the numpy array, and adds the appropriate state, show, and viewers to the dataframe\n",
    "#converts the viewer count to an integer\n",
    "for entry in film_array:\n",
    "    state, show, viewer_count = entry\n",
    "    show_raw_stats.at[show, state] += int(viewer_count)\n",
    "\n",
    "#creates and configures the show_agg_stats dataframe, with Max, Min, Totals, and Percent\n",
    "#uses the show_raw_stats dataframe to calculate each via max, min, and sum methods\n",
    "#calculates percent by aggregate data counts    \n",
    "show_agg_stats = pd.DataFrame(index=unique_shows, columns=['Max', 'Min', 'Totals', 'Percent'])\n",
    "show_agg_stats['Max'] = show_raw_stats.max(axis=1)\n",
    "show_agg_stats['Min'] = show_raw_stats.min(axis=1)\n",
    "show_agg_stats['Totals'] = show_raw_stats.sum(axis=1)\n",
    "show_agg_stats['Percent'] = (show_agg_stats['Totals'] / show_agg_stats['Totals'].sum()) * 100\n",
    "\n",
    "#prints headers and displays dataframes\n",
    "print(\"show_raw_stats:\")\n",
    "display(show_raw_stats)\n",
    "print(\"\\nshow_agg_stats:\")\n",
    "display(show_agg_stats)"
   ]
  },
  {
   "cell_type": "markdown",
   "metadata": {},
   "source": [
    "6. Print the answer to these questions in a Markdown cell, do not print them with Python:        \n",
    "Which Show has the highest percentage?   (5 pts)      \n",
    "Which Show has the lowest percentage?    (5 pts)     \n",
    "Which show is your favorite?             (5 pts)     "
   ]
  },
  {
   "cell_type": "markdown",
   "metadata": {},
   "source": [
    "The show with the highest percentage is Game of Thrones, at roughly 16.26%.\n",
    "\n",
    "The show with the lowest percentage is Orange is the New Black, at roughly 3.74%.\n",
    "\n",
    "My favorite of these shows is Game of Thrones (although the ending was not great...)."
   ]
  },
  {
   "cell_type": "markdown",
   "metadata": {},
   "source": [
    "### Please try to follow the directions as closely as possible.  You might think of better ways to implement this, with less lines of code the skips steps and thats great, but not for this assignment.  If you do think of these, put them in comments and extra points will be given for those but follow these steps."
   ]
  }
 ],
 "metadata": {
  "kernelspec": {
   "display_name": "base",
   "language": "python",
   "name": "python3"
  },
  "language_info": {
   "codemirror_mode": {
    "name": "ipython",
    "version": 3
   },
   "file_extension": ".py",
   "mimetype": "text/x-python",
   "name": "python",
   "nbconvert_exporter": "python",
   "pygments_lexer": "ipython3",
   "version": "3.11.5"
  }
 },
 "nbformat": 4,
 "nbformat_minor": 2
}
